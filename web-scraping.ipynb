{
 "cells": [
  {
   "attachments": {},
   "cell_type": "markdown",
   "metadata": {},
   "source": [
    "# Web Mining and Applied NLP (44-620)\n",
    "\n",
    "## Web Scraping and NLP with Requests, BeautifulSoup, and spaCy\n",
    "\n",
    "### Student Name: Ash Hoskins S559245\n",
    "\n",
    "https://github.com/Hoskins-s559245/A6-S559245\n",
    "\n",
    "Perform the tasks described in the Markdown cells below.  When you have completed the assignment make sure your code cells have all been run (and have output beneath them) and ensure you have committed and pushed ALL of your changes to your assignment repository.\n",
    "\n",
    "Every question that requires you to write code will have a code cell underneath it; you may either write your entire solution in that cell or write it in a python file (`.py`), then import and run the appropriate code to answer the question."
   ]
  },
  {
   "cell_type": "code",
   "execution_count": 1,
   "metadata": {},
   "outputs": [
    {
     "name": "stdout",
     "output_type": "stream",
     "text": [
      "Package            Version\n",
      "------------------ --------\n",
      "asttokens          2.2.1\n",
      "backcall           0.2.0\n",
      "beautifulsoup4     4.12.2\n",
      "blis               0.7.9\n",
      "catalogue          2.0.8\n",
      "certifi            2023.5.7\n",
      "charset-normalizer 3.2.0\n",
      "click              8.1.4\n",
      "colorama           0.4.6\n",
      "comm               0.1.3\n",
      "confection         0.1.0\n",
      "contourpy          1.1.0\n",
      "cycler             0.11.0\n",
      "cymem              2.0.7\n",
      "debugpy            1.6.7\n",
      "decorator          5.1.1\n",
      "en-core-web-sm     3.6.0\n",
      "et-xmlfile         1.1.0\n",
      "executing          1.2.0\n",
      "fonttools          4.40.0\n",
      "idna               3.4\n",
      "ipykernel          6.23.3\n",
      "ipython            8.14.0\n",
      "jedi               0.18.2\n",
      "Jinja2             3.1.2\n",
      "joblib             1.3.1\n",
      "jupyter_client     8.3.0\n",
      "jupyter_core       5.3.1\n",
      "kiwisolver         1.4.4\n",
      "langcodes          3.3.0\n",
      "lyricsgenius       3.0.1\n",
      "MarkupSafe         2.1.3\n",
      "matplotlib         3.7.2\n",
      "matplotlib-inline  0.1.6\n",
      "murmurhash         1.0.9\n",
      "nest-asyncio       1.5.6\n",
      "nltk               3.8.1\n",
      "numpy              1.24.2\n",
      "openpyxl           3.1.1\n",
      "packaging          23.1\n",
      "pandas             1.5.3\n",
      "parso              0.8.3\n",
      "pathy              0.10.2\n",
      "pickleshare        0.7.5\n",
      "Pillow             10.0.0\n",
      "pip                23.2.1\n",
      "platformdirs       3.8.0\n",
      "preshed            3.0.8\n",
      "prompt-toolkit     3.0.38\n",
      "psutil             5.9.5\n",
      "pure-eval          0.2.2\n",
      "pydantic           1.10.11\n",
      "Pygments           2.15.1\n",
      "pyparsing          3.0.9\n",
      "python-dateutil    2.8.2\n",
      "pytz               2022.7.1\n",
      "pywin32            306\n",
      "pyzmq              25.1.0\n",
      "regex              2023.6.3\n",
      "requests           2.31.0\n",
      "setuptools         68.0.0\n",
      "six                1.16.0\n",
      "smart-open         6.3.0\n",
      "soupsieve          2.4.1\n",
      "spacy              3.6.0\n",
      "spacy-legacy       3.0.12\n",
      "spacy-loggers      1.0.4\n",
      "spacytextblob      4.0.0\n",
      "srsly              2.4.6\n",
      "stack-data         0.6.2\n",
      "textblob           0.15.3\n",
      "thinc              8.1.10\n",
      "tornado            6.3.2\n",
      "tqdm               4.65.0\n",
      "traitlets          5.9.0\n",
      "typer              0.9.0\n",
      "typing_extensions  4.7.1\n",
      "urllib3            2.0.3\n",
      "wasabi             1.1.2\n",
      "wcwidth            0.2.6\n",
      "wheel              0.40.0\n",
      "All prereqs installed.\n"
     ]
    }
   ],
   "source": [
    "from collections import Counter\n",
    "import pickle\n",
    "import requests\n",
    "import spacy\n",
    "from bs4 import BeautifulSoup\n",
    "import matplotlib.pyplot as plt\n",
    "\n",
    "!pip list\n",
    "\n",
    "print('All prereqs installed.')"
   ]
  },
  {
   "cell_type": "markdown",
   "metadata": {},
   "source": [
    "1. Write code that extracts the article html from https://web.archive.org/web/20210327165005/https://hackaday.com/2021/03/22/how-laser-headlights-work/ and dumps it to a .pkl (or other appropriate file)"
   ]
  },
  {
   "cell_type": "code",
   "execution_count": 6,
   "metadata": {},
   "outputs": [
    {
     "name": "stdout",
     "output_type": "stream",
     "text": [
      "Article was saved to file:  article_html.pkl\n"
     ]
    }
   ],
   "source": [
    "import requests\n",
    "import pickle\n",
    "\n",
    "link = \"https://web.archive.org/web/20210327165005/https://hackaday.com/2021/03/22/how-laser-headlights-work/\"\n",
    "\n",
    "def verify(add):\n",
    "    \n",
    "    response = requests.get(add)\n",
    "    if response.status_code == 200:\n",
    "        return response.text\n",
    "    else:\n",
    "        print(\"Connection has failed\")\n",
    "        return 0\n",
    "\n",
    "def extraction(add2):\n",
    "    article = verify(add2)\n",
    "    if article != 0 :\n",
    "        file = \"article_html.pkl\"\n",
    "        with open(file, \"wb\") as g:\n",
    "            pickle.dump(article, g)\n",
    "        print(\"Article was saved to file: \", file)\n",
    "\n",
    "extraction(link)"
   ]
  },
  {
   "cell_type": "markdown",
   "metadata": {},
   "source": [
    "2. Read in your article's html source from the file you created in question 1 and print it's text (use `.get_text()`)"
   ]
  },
  {
   "cell_type": "code",
   "execution_count": null,
   "metadata": {},
   "outputs": [],
   "source": []
  },
  {
   "cell_type": "markdown",
   "metadata": {},
   "source": [
    "3. Load the article text into a trained `spaCy` pipeline, and determine the 5 most frequent tokens (converted to lower case).  Print the common tokens with an appropriate label.  Additionally, print the tokens their frequencies (with appropriate labels). Make sure to remove things we don't care about (punctuation, stopwords, whitespace)."
   ]
  },
  {
   "cell_type": "code",
   "execution_count": null,
   "metadata": {},
   "outputs": [],
   "source": []
  },
  {
   "cell_type": "markdown",
   "metadata": {},
   "source": [
    "4. Load the article text into a trained `spaCy` pipeline, and determine the 5 most frequent lemmas (converted to lower case).  Print the common lemmas with an appropriate label.  Additionally, print the lemmas with their frequencies (with appropriate labels). Make sure to remove things we don't care about (punctuation, stopwords, whitespace)."
   ]
  },
  {
   "cell_type": "code",
   "execution_count": null,
   "metadata": {},
   "outputs": [],
   "source": []
  },
  {
   "cell_type": "markdown",
   "metadata": {},
   "source": [
    "5. Define the following methods:\n",
    "    * `score_sentence_by_token(sentence, interesting_token)` that takes a sentence and a list of interesting token and returns the number of times that any of the interesting words appear in the sentence divided by the number of words in the sentence\n",
    "    * `score_sentence_by_lemma(sentence, interesting_lemmas)` that takes a sentence and a list of interesting lemmas and returns the number of times that any of the interesting lemmas appear in the sentence divided by the number of words in the sentence\n",
    "    \n",
    "You may find some of the code from the in class notes useful; feel free to use methods (rewrite them in this cell as well).  Test them by showing the score of the first sentence in your article using the frequent tokens and frequent lemmas identified in question 3."
   ]
  },
  {
   "cell_type": "code",
   "execution_count": null,
   "metadata": {},
   "outputs": [],
   "source": []
  },
  {
   "cell_type": "markdown",
   "metadata": {},
   "source": [
    "6. Make a list containing the scores (using tokens) of every sentence in the article, and plot a histogram with appropriate titles and axis labels of the scores. From your histogram, what seems to be the most common range of scores (put the answer in a comment after your code)?"
   ]
  },
  {
   "cell_type": "code",
   "execution_count": null,
   "metadata": {},
   "outputs": [],
   "source": []
  },
  {
   "cell_type": "markdown",
   "metadata": {},
   "source": [
    "7. Make a list containing the scores (using lemmas) of every sentence in the article, and plot a histogram with appropriate titles and axis labels of the scores.  From your histogram, what seems to be the most common range of scores (put the answer in a comment after your code)?"
   ]
  },
  {
   "cell_type": "code",
   "execution_count": null,
   "metadata": {},
   "outputs": [],
   "source": []
  },
  {
   "cell_type": "markdown",
   "metadata": {},
   "source": [
    "8. Which tokens and lexems would be ommitted from the lists generated in questions 3 and 4 if we only wanted to consider nouns as interesting words?  How might we change the code to only consider nouns? Put your answer in this Markdown cell (you can edit it by double clicking it)."
   ]
  }
 ],
 "metadata": {
  "kernelspec": {
   "display_name": "Python 3",
   "language": "python",
   "name": "python3"
  },
  "language_info": {
   "codemirror_mode": {
    "name": "ipython",
    "version": 3
   },
   "file_extension": ".py",
   "mimetype": "text/x-python",
   "name": "python",
   "nbconvert_exporter": "python",
   "pygments_lexer": "ipython3",
   "version": "3.11.3"
  }
 },
 "nbformat": 4,
 "nbformat_minor": 4
}
